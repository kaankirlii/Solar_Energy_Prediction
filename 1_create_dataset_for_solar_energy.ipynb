{
  "nbformat": 4,
  "nbformat_minor": 0,
  "metadata": {
    "colab": {
      "provenance": []
    },
    "kernelspec": {
      "name": "python3",
      "display_name": "Python 3"
    },
    "language_info": {
      "name": "python"
    }
  },
  "cells": [
    {
      "cell_type": "code",
      "execution_count": 1,
      "metadata": {
        "id": "fT1xsGBD-U2Q"
      },
      "outputs": [],
      "source": [
        "#Import libraries\n",
        "import pandas as pd\n",
        "import numpy as np\n",
        "from datetime import datetime, timedelta"
      ]
    },
    {
      "cell_type": "code",
      "source": [
        "# Function to generate random datetime within a given range\n",
        "def random_datetime(start_date, end_date):\n",
        "    delta = end_date - start_date\n",
        "    random_delta = np.random.randint(delta.days)\n",
        "    random_time = start_date + timedelta(days=random_delta)\n",
        "    return random_time"
      ],
      "metadata": {
        "id": "1z-FegdW-k9d"
      },
      "execution_count": 2,
      "outputs": []
    },
    {
      "cell_type": "code",
      "source": [
        "# Generate random dates within a range\n",
        "start_date = datetime(2024, 1, 1)\n",
        "end_date = datetime(2024, 12, 31)\n",
        "dates = [random_datetime(start_date, end_date) for _ in range(1000)]"
      ],
      "metadata": {
        "id": "3Nnz9_gJ-sAS"
      },
      "execution_count": 3,
      "outputs": []
    },
    {
      "cell_type": "code",
      "source": [
        "# Generate random times\n",
        "times = [datetime.strftime(datetime.strptime(\"08:00:00\", \"%H:%M:%S\") + timedelta(minutes=np.random.randint(720)), \"%H:%M:%S\") for _ in range(1000)]"
      ],
      "metadata": {
        "id": "4GxA4TUf-wLS"
      },
      "execution_count": 4,
      "outputs": []
    },
    {
      "cell_type": "code",
      "source": [
        "# Generate random elevation, temperature, humidity, solar irradiance,\n",
        "# cloud cover, wind speed, and solar production\n",
        "elevations = np.random.randint(0, 10, size=1000)\n",
        "temperatures = np.random.randint(10, 40, size=1000)\n",
        "humidity = np.random.randint(30, 90, size=1000)\n",
        "solar_irradiance = np.random.randint(100, 800, size=1000)\n",
        "cloud_cover = np.random.uniform(0, 0.5, size=1000)\n",
        "wind_speed = np.random.uniform(1, 10, size=1000)\n",
        "solar_production = np.random.randint(100, 1000, size=1000)"
      ],
      "metadata": {
        "id": "lHjK3iVL-y9q"
      },
      "execution_count": 5,
      "outputs": []
    },
    {
      "cell_type": "code",
      "source": [
        "# Create DataFrame\n",
        "data = {\n",
        "    'Date': dates,\n",
        "    'Time': times,\n",
        "    'Elevation': elevations,\n",
        "    'Temperature': temperatures,\n",
        "    'Humidity': humidity,\n",
        "    'Solar_Irradiance': solar_irradiance,\n",
        "    'Cloud_Cover': cloud_cover,\n",
        "    'Wind_Speed': wind_speed,\n",
        "    'Solar_Production': solar_production\n",
        "}\n",
        "\n",
        "df = pd.DataFrame(data)"
      ],
      "metadata": {
        "id": "qOHSd1h5-1uN"
      },
      "execution_count": 6,
      "outputs": []
    },
    {
      "cell_type": "code",
      "source": [
        "# Save DataFrame to CSV\n",
        "df.to_csv('solar_energy_prediction_dataset.csv', index=False)"
      ],
      "metadata": {
        "id": "XGuwPJWL_CUf"
      },
      "execution_count": 7,
      "outputs": []
    }
  ]
}